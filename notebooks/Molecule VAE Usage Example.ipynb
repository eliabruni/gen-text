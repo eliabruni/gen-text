{
 "cells": [
  {
   "cell_type": "markdown",
   "metadata": {},
   "source": [
    "# How to use the trained molecule VAE\n"
   ]
  },
  {
   "cell_type": "code",
   "execution_count": 1,
   "metadata": {
    "collapsed": false
   },
   "outputs": [
    {
     "name": "stderr",
     "output_type": "stream",
     "text": [
      "Using TensorFlow backend.\n"
     ]
    }
   ],
   "source": [
    "import sys\n",
    "sys.path.insert(0, '..')\n",
    "\n",
    "import molecule_vae"
   ]
  },
  {
   "cell_type": "markdown",
   "metadata": {},
   "source": [
    "### You need to have a .hdf5 file with trained weights somewhere."
   ]
  },
  {
   "cell_type": "code",
   "execution_count": 2,
   "metadata": {
    "collapsed": true
   },
   "outputs": [],
   "source": [
    "grammar_weights = \"/Users/brooks/Downloads/zinc_vae_L56.hdf5\""
   ]
  },
  {
   "cell_type": "code",
   "execution_count": 3,
   "metadata": {
    "collapsed": false
   },
   "outputs": [
    {
     "name": "stderr",
     "output_type": "stream",
     "text": [
      "/usr/local/lib/python2.7/site-packages/keras/engine/topology.py:368: UserWarning: The `regularizers` property of layers/models is deprecated. Regularization losses are now managed via the `losses` layer/model property.\n",
      "  warnings.warn('The `regularizers` property of '\n"
     ]
    }
   ],
   "source": [
    "grammar_model = molecule_vae.ZincGrammarModel(grammar_weights)"
   ]
  },
  {
   "cell_type": "markdown",
   "metadata": {},
   "source": [
    "### Here are some example smiles strings.\n",
    "\n",
    "The `encode` method takes a list of smiles strings, and maps them (deterministically) to the posterior mean estimate.\n",
    "\n",
    "This returns a matrix of dimension `[num_inputs, 56]`."
   ]
  },
  {
   "cell_type": "code",
   "execution_count": 4,
   "metadata": {
    "collapsed": true
   },
   "outputs": [],
   "source": [
    "smiles = [\"C[C@@H]1CN(C(=O)c2cc(Br)cn2C)CC[C@H]1[NH3+]\",\n",
    "          \"CC[NH+](CC)[C@](C)(CC)[C@H](O)c1cscc1Br\",\n",
    "          \"O=C(Nc1nc[nH]n1)c1cccnc1Nc1cccc(F)c1\",\n",
    "          \"Cc1c(/C=N/c2cc(Br)ccn2)c(O)n2c(nc3ccccc32)c1C#N\"]"
   ]
  },
  {
   "cell_type": "code",
   "execution_count": 5,
   "metadata": {
    "collapsed": false
   },
   "outputs": [
    {
     "name": "stdout",
     "output_type": "stream",
     "text": [
      "(4, 56)\n"
     ]
    }
   ],
   "source": [
    "z1 = grammar_model.encode(smiles)\n",
    "print z1.shape"
   ]
  },
  {
   "cell_type": "markdown",
   "metadata": {},
   "source": [
    "### Decoding is stochastic.\n",
    "\n",
    "Calling the `decode` method will draw a single sample from the decoding distribution."
   ]
  },
  {
   "cell_type": "code",
   "execution_count": 6,
   "metadata": {
    "collapsed": false
   },
   "outputs": [
    {
     "name": "stdout",
     "output_type": "stream",
     "text": [
      "C[C@@H]1CN(C(=O)c2cc(Br)cs2C)CC[C@H]1[NH3+]\n",
      "CC[NH+](CC[C@](C))CCC[C@H](O)c1scc\n",
      "O=C(Nc1nc[nH])n1c1cccnc1Nc1cccc(F)c1\n",
      "Cc1c(C=N/c2cc(Br)Osc2)c(=C)c2c(nc3cccc)c32c1C#N\n"
     ]
    }
   ],
   "source": [
    "for mol in grammar_model.decode(z1):\n",
    "    print mol"
   ]
  },
  {
   "cell_type": "code",
   "execution_count": 7,
   "metadata": {
    "collapsed": false
   },
   "outputs": [
    {
     "name": "stdout",
     "output_type": "stream",
     "text": [
      "C[C@@H]1CN(C(=O)c2cc(Br)cn2C)CC[C@H]1[NH3+]\n",
      "CC=[NH+](C)C[C@](C)(C)([C@H](O))c1sscc1Br\n",
      "OC(Nc1nn[nH]c1c1)cccnn1Nc1cccc(F)c1F\n",
      "cc1c(C#N\\\\c2cc(Br)Osc2)c(=O)n3c(nc3ccc)cc322c1C\n"
     ]
    }
   ],
   "source": [
    "for mol in grammar_model.decode(z1):\n",
    "    print mol"
   ]
  },
  {
   "cell_type": "markdown",
   "metadata": {},
   "source": [
    "## The character model has the same interface as the grammar model."
   ]
  },
  {
   "cell_type": "code",
   "execution_count": 8,
   "metadata": {
    "collapsed": false
   },
   "outputs": [],
   "source": [
    "char_weights = \"/Users/brooks/Downloads/zinc_str_vae_L56_E99.hdf5\""
   ]
  },
  {
   "cell_type": "code",
   "execution_count": 9,
   "metadata": {
    "collapsed": false
   },
   "outputs": [],
   "source": [
    "char_model = molecule_vae.ZincCharacterModel(char_weights)"
   ]
  },
  {
   "cell_type": "code",
   "execution_count": 10,
   "metadata": {
    "collapsed": false
   },
   "outputs": [
    {
     "name": "stdout",
     "output_type": "stream",
     "text": [
      "(4, 56)\n"
     ]
    }
   ],
   "source": [
    "z2 = char_model.encode(smiles)\n",
    "print z2.shape"
   ]
  },
  {
   "cell_type": "markdown",
   "metadata": {},
   "source": [
    "### The character decoder has some \"minor issues\"\n",
    "\n",
    "The charset is in the wrong order at the moment. (At the very least it seems like 's' should actually be ' ', and probably ' ' is 'C'...)"
   ]
  },
  {
   "cell_type": "code",
   "execution_count": 11,
   "metadata": {
    "collapsed": false
   },
   "outputs": [
    {
     "name": "stdout",
     "output_type": "stream",
     "text": [
      "  +  S #12(#12(3# ( )-@)# (@)-()-)# (//-( +sssssssssssssssssssssssssssssssssssssssssssssssssssssssssssssssssssssssssssss\n",
      " C  # 3)+@)@@+ ( +#))@/)# ## ((@@-(++sssssssssssssssssssssssssssssssssssssssssssssssssssssssssssssssssssssssssssssssssss\n",
      "21 +  -# 1   -(   +(  3+   +- 44  ssssssssssssssssssssssssssssssssssssssssssssssssssssssssssssssssssssssssssssssssssssss\n",
      " 3#   C3(    ( ))@)# ()-)+6 #3(# (((@@- ( -  +ssssssssssssssssssssssssssssssssssssssssssssssssssssssssssssssssssssssssss\n"
     ]
    }
   ],
   "source": [
    "for mol in char_model.decode(z2):\n",
    "    print mol"
   ]
  },
  {
   "cell_type": "code",
   "execution_count": 12,
   "metadata": {
    "collapsed": false
   },
   "outputs": [
    {
     "name": "stdout",
     "output_type": "stream",
     "text": [
      "  +  # #12(#12(3# ( )-/)# (@)-()-)# (@/-  +sssssssssssssssssssssssssssssssssssssssssssssssssssssssssssssssssssssssssssss\n",
      " C    3)+@))@++( +#)-+/)#  # ((@@-( ssssssssssssssssssssssssssssssssssssssssssssssssssssssssssssssssssssssssssssssssssss\n",
      "21 +3 -# F1  -( # +(+ 3+   ++(3+   sssssssssssssssssssssssssssssssssssssssssssssssssssssssssssssssssssssssssssssssssssss\n",
      " 3#   C3(  #3(  +@)#2()-)#S # (# # (@@# (@+  +ssssssssssssssssssssssssssssssssssssssssssssssssssssssssssssssssssssssssss\n"
     ]
    }
   ],
   "source": [
    "for mol in char_model.decode(z2):\n",
    "    print mol"
   ]
  }
 ],
 "metadata": {
  "kernelspec": {
   "display_name": "Python 2",
   "language": "python",
   "name": "python2"
  },
  "language_info": {
   "codemirror_mode": {
    "name": "ipython",
    "version": 2
   },
   "file_extension": ".py",
   "mimetype": "text/x-python",
   "name": "python",
   "nbconvert_exporter": "python",
   "pygments_lexer": "ipython2",
   "version": "2.7.11"
  }
 },
 "nbformat": 4,
 "nbformat_minor": 0
}
