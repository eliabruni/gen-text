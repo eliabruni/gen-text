{
 "cells": [
  {
   "cell_type": "markdown",
   "metadata": {},
   "source": [
    "# How to use the trained molecule VAE\n"
   ]
  },
  {
   "cell_type": "code",
   "execution_count": 1,
   "metadata": {
    "collapsed": false
   },
   "outputs": [
    {
     "name": "stderr",
     "output_type": "stream",
     "text": [
      "Using TensorFlow backend.\n"
     ]
    }
   ],
   "source": [
    "import sys\n",
    "sys.path.insert(0, '..')\n",
    "\n",
    "import grammar.zinc_grammar\n",
    "import molecule_vae\n"
   ]
  },
  {
   "cell_type": "markdown",
   "metadata": {},
   "source": [
    "### You need to have a .hdf5 file with trained weights somewhere."
   ]
  },
  {
   "cell_type": "code",
   "execution_count": 2,
   "metadata": {
    "collapsed": true
   },
   "outputs": [],
   "source": [
    "grammar_weights = \"../zinc_vae_L56.hdf5\"#\"/Users/brookspaige/Downloads/zinc_vae_L56.hdf5\""
   ]
  },
  {
   "cell_type": "code",
   "execution_count": 3,
   "metadata": {
    "collapsed": false
   },
   "outputs": [
    {
     "name": "stderr",
     "output_type": "stream",
     "text": [
      "//anaconda/envs/tensorflow/lib/python2.7/site-packages/keras/engine/topology.py:368: UserWarning: The `regularizers` property of layers/models is deprecated. Regularization losses are now managed via the `losses` layer/model property.\n",
      "  warnings.warn('The `regularizers` property of '\n"
     ]
    }
   ],
   "source": [
    "grammar_model = molecule_vae.ZincGrammarModel(grammar_weights)"
   ]
  },
  {
   "cell_type": "markdown",
   "metadata": {},
   "source": [
    "### Here are some example smiles strings.\n",
    "\n",
    "The `encode` method takes a list of smiles strings, and maps them (deterministically) to the posterior mean estimate.\n",
    "\n",
    "This returns a matrix of dimension `[num_inputs, 56]`."
   ]
  },
  {
   "cell_type": "code",
   "execution_count": 4,
   "metadata": {
    "collapsed": true
   },
   "outputs": [],
   "source": [
    "smiles = [\"C[C@@H]1CN(C(=O)c2cc(Br)cn2C)CC[C@H]1[NH3+]\",\n",
    "          \"CC[NH+](CC)[C@](C)(CC)[C@H](O)c1cscc1Br\",\n",
    "          \"O=C(Nc1nc[nH]n1)c1cccnc1Nc1cccc(F)c1\",\n",
    "          \"Cc1c(/C=N/c2cc(Br)ccn2)c(O)n2c(nc3ccccc32)c1C#N\",\n",
    "          \"CSc1nncn1/N=C\\c1cc(Cl)ccc1F\"]"
   ]
  },
  {
   "cell_type": "code",
   "execution_count": 7,
   "metadata": {
    "collapsed": false
   },
   "outputs": [
    {
     "data": {
      "text/plain": [
       "\"smiles -> chain\\natom -> bracket_atom\\natom -> aliphatic_organic\\natom -> aromatic_organic\\naliphatic_organic -> 'B'\\naliphatic_organic -> 'C'\\naliphatic_organic -> 'N'\\naliphatic_organic -> 'O'\\naliphatic_organic -> 'S'\\naliphatic_organic -> 'P'\\naliphatic_organic -> 'F'\\naliphatic_organic -> 'I'\\naliphatic_organic -> 'Cl'\\naliphatic_organic -> 'Br'\\naromatic_organic -> 'c'\\naromatic_organic -> 'n'\\naromatic_organic -> 'o'\\naromatic_organic -> 's'\\nbracket_atom -> '[' BAI ']'\\nBAI -> isotope symbol BAC\\nBAI -> symbol BAC\\nBAI -> isotope symbol\\nBAI -> symbol\\nBAC -> chiral BAH\\nBAC -> BAH\\nBAC -> chiral\\nBAH -> hcount BACH\\nBAH -> BACH\\nBAH -> hcount\\nBACH -> charge class\\nBACH -> charge\\nBACH -> class\\nsymbol -> aliphatic_organic\\nsymbol -> aromatic_organic\\nisotope -> DIGIT\\nisotope -> DIGIT DIGIT\\nisotope -> DIGIT DIGIT DIGIT\\nDIGIT -> '1'\\nDIGIT -> '2'\\nDIGIT -> '3'\\nDIGIT -> '4'\\nDIGIT -> '5'\\nDIGIT -> '6'\\nDIGIT -> '7'\\nDIGIT -> '8'\\nchiral -> '@'\\nchiral -> '@@'\\nhcount -> 'H'\\nhcount -> 'H' DIGIT\\ncharge -> '-'\\ncharge -> '-' DIGIT\\ncharge -> '-' DIGIT DIGIT\\ncharge -> '+'\\ncharge -> '+' DIGIT\\ncharge -> '+' DIGIT DIGIT\\nbond -> '-'\\nbond -> '='\\nbond -> '#'\\nbond -> '/'\\nbond -> '\\\\'\\nringbond -> DIGIT\\nringbond -> bond DIGIT\\nbranched_atom -> atom\\nbranched_atom -> atom RB\\nbranched_atom -> atom BB\\nbranched_atom -> atom RB BB\\nRB -> RB ringbond\\nRB -> ringbond\\nBB -> BB branch\\nBB -> branch\\nbranch -> '(' chain ')'\\nbranch -> '(' bond chain ')'\\nchain -> branched_atom\\nchain -> chain branched_atom\\nchain -> chain bond branched_atom\\nNothing -> None\""
      ]
     },
     "execution_count": 7,
     "metadata": {},
     "output_type": "execute_result"
    }
   ],
   "source": [
    "grammar.zinc_grammar.gram"
   ]
  },
  {
   "cell_type": "code",
   "execution_count": 18,
   "metadata": {
    "collapsed": false
   },
   "outputs": [
    {
     "name": "stdout",
     "output_type": "stream",
     "text": [
      "(5, 56)\n"
     ]
    }
   ],
   "source": [
    "import numpy as np\n",
    "z1 = grammar_model.encode(smiles)\n",
    "print z1.shape"
   ]
  },
  {
   "cell_type": "markdown",
   "metadata": {},
   "source": [
    "### Decoding is stochastic.\n",
    "\n",
    "Calling the `decode` method will draw a single sample from the decoding distribution."
   ]
  },
  {
   "cell_type": "code",
   "execution_count": 20,
   "metadata": {
    "collapsed": false
   },
   "outputs": [
    {
     "name": "stdout",
     "output_type": "stream",
     "text": [
      "C[C@@H]1CN(C(=O)c2cc(Br)so2C)CC[C@H]1#[NH2+]\n",
      "CC[NH+](C)=C[C@](C)CCC[C@H](O)c1cs\n",
      "OC(Nc1nc[nH]n1c1)cccnc1Nc1cccc(F)c1F\n",
      "Oc1c(/C#N/c2cc(I)cs)c2c(=O)n2c(nc4ccc)cc322c1\n",
      "COc1scnn1/S=C/c1\\c(I)ccc1FFs1\n"
     ]
    }
   ],
   "source": [
    "for mol in grammar_model.decode(z1):\n",
    "    print mol"
   ]
  },
  {
   "cell_type": "code",
   "execution_count": 16,
   "metadata": {
    "collapsed": false
   },
   "outputs": [
    {
     "name": "stdout",
     "output_type": "stream",
     "text": [
      "C[C@@H]1CN(C(=O)c2cc(Br)cs2C)CC[C@H]1[NH3+]\n",
      "CC[NH+](CC)#[C@](C)CCCC(C(O))c1nc\n",
      "OC(Nc1nc[nH]n1c1)cccnc1Nc1cccc(F)c1F\n",
      "Cc1c(/C=N/c2cc(Br)co2)nc(N)c2c(nc4cccc)cc3c1\n",
      "CSc1ncnn1C=Nc1nc(Br)Clccc1\n"
     ]
    }
   ],
   "source": [
    "for mol in grammar_model.decode(z1):\n",
    "    print mol"
   ]
  },
  {
   "cell_type": "markdown",
   "metadata": {},
   "source": [
    "## The character model has the same interface as the grammar model."
   ]
  },
  {
   "cell_type": "code",
   "execution_count": 8,
   "metadata": {
    "collapsed": false
   },
   "outputs": [],
   "source": [
    "char_weights = \"/Users/brookspaige/Downloads/zinc_str_vae_L56_E99.hdf5\""
   ]
  },
  {
   "cell_type": "code",
   "execution_count": 9,
   "metadata": {
    "collapsed": false
   },
   "outputs": [],
   "source": [
    "char_model = molecule_vae.ZincCharacterModel(char_weights)"
   ]
  },
  {
   "cell_type": "code",
   "execution_count": 10,
   "metadata": {
    "collapsed": false
   },
   "outputs": [
    {
     "name": "stdout",
     "output_type": "stream",
     "text": [
      "(5, 56)\n"
     ]
    }
   ],
   "source": [
    "z2 = char_model.encode(smiles)\n",
    "print z2.shape"
   ]
  },
  {
   "cell_type": "markdown",
   "metadata": {},
   "source": [
    "The encoded smiles strings in the character model are also each 56-dimensional vectors."
   ]
  },
  {
   "cell_type": "code",
   "execution_count": 11,
   "metadata": {
    "collapsed": false
   },
   "outputs": [
    {
     "name": "stdout",
     "output_type": "stream",
     "text": [
      "C[C@@H]1CN(C(=O)c2cc(Br)cc2C)CC[C@H]1[NH3+]\n",
      "CC[NH+](CC)[C@](C)(CC)[C@H](O)c1cscc1Br\n",
      "O=C(Nc1nn[nH]n1)c1ccccc1Nc1cccc(F)c1\n",
      "Cn1c(/N=C/c2cc(Br)cc22)c(C)n2c(nc3ccccc32)c1C#N\n",
      "CCc1nnnc1/N=C/c1cc(Cl)ccc1F\n"
     ]
    }
   ],
   "source": [
    "for mol in char_model.decode(z2):\n",
    "    print mol"
   ]
  },
  {
   "cell_type": "code",
   "execution_count": 12,
   "metadata": {
    "collapsed": false
   },
   "outputs": [
    {
     "name": "stdout",
     "output_type": "stream",
     "text": [
      "C[C@@H]1CN(C(=O)c2cc(Br)cn3C)CC[C@H]1[NH3+]\n",
      "CC[NH+](CC)[C@](C)(CC)[C@H](O)c1cscc1Br\n",
      "O=C(Nc1nc[nC]n1)c1cccnc1Nc1cccc(F)c1\n",
      "Cc1c(/N=C/c2cc(Br)cc2Fcc(C)n2c(nc3ccccc32)c1C#N\n",
      "CNc1nnnn1/N=C\\c1cc(Cl)ccc1F\n"
     ]
    }
   ],
   "source": [
    "for mol in char_model.decode(z2):\n",
    "    print mol"
   ]
  }
 ],
 "metadata": {
  "kernelspec": {
   "display_name": "Python 2",
   "language": "python",
   "name": "python2"
  },
  "language_info": {
   "codemirror_mode": {
    "name": "ipython",
    "version": 2
   },
   "file_extension": ".py",
   "mimetype": "text/x-python",
   "name": "python",
   "nbconvert_exporter": "python",
   "pygments_lexer": "ipython2",
   "version": "2.7.13"
  }
 },
 "nbformat": 4,
 "nbformat_minor": 0
}
