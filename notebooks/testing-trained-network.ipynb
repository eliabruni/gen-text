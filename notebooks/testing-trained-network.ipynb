{
 "cells": [
  {
   "cell_type": "markdown",
   "metadata": {},
   "source": [
    "# Using numpy to sample from trained decoder"
   ]
  },
  {
   "cell_type": "code",
   "execution_count": 1,
   "metadata": {
    "collapsed": false
   },
   "outputs": [],
   "source": [
    "import sys\n",
    "sys.path.insert(0, '../molecules')\n",
    "sys.path.insert(0, '..')"
   ]
  },
  {
   "cell_type": "code",
   "execution_count": 2,
   "metadata": {
    "collapsed": false
   },
   "outputs": [
    {
     "name": "stderr",
     "output_type": "stream",
     "text": [
      "Using TensorFlow backend.\n"
     ]
    }
   ],
   "source": [
    "import numpy as np\n",
    "import nltk\n",
    "from nltk.parse.generate import generate\n",
    "import tensorflow as tf\n",
    "import keras.backend as K\n",
    "from random import shuffle\n",
    "\n",
    "import model_gr_prev\n",
    "import the_grammar as G"
   ]
  },
  {
   "cell_type": "markdown",
   "metadata": {},
   "source": [
    "## Create a VAE and load the trained equation weights"
   ]
  },
  {
   "cell_type": "code",
   "execution_count": 3,
   "metadata": {
    "collapsed": false
   },
   "outputs": [],
   "source": [
    "vae = model_gr_prev.MoleculeVAE()\n",
    "\n",
    "productions = G.GCFG.productions()\n",
    "n_chars = len(productions)\n",
    "MAX_LEN = model_gr_prev.MAX_LEN\n",
    "weights_file = \"../results/eq_prev_train_vae_h50_c123_cond_L10.hdf5\"\n",
    "\n",
    "vae.load(productions, weights_file, latent_rep_size=10, max_length=MAX_LEN)"
   ]
  },
  {
   "cell_type": "markdown",
   "metadata": {},
   "source": [
    "## Generate some synthetic data"
   ]
  },
  {
   "cell_type": "code",
   "execution_count": 4,
   "metadata": {
    "collapsed": false
   },
   "outputs": [],
   "source": [
    "parser = nltk.ChartParser(G.GCFG)\n",
    "\n",
    "limit = 100\n",
    "raw = []\n",
    "data = []\n",
    "for tokens in generate(G.GCFG, depth=5, n=limit):\n",
    "    raw.append(''.join(tokens))\n",
    "    data.append(parser.parse(tokens).next().productions())\n",
    "\n",
    "prod_map = {}\n",
    "for ix, prod in enumerate(productions):\n",
    "    prod_map[prod] = ix\n",
    "\n",
    "X = np.zeros((limit, model_gr_prev.MAX_LEN, n_chars), dtype=np.float32)\n",
    "for row, prods in enumerate(data):\n",
    "    for t, pr in enumerate(prods):\n",
    "        X[row,t,prod_map[pr]] = 1\n",
    "    X[row,t+1:,:] = 1"
   ]
  },
  {
   "cell_type": "markdown",
   "metadata": {},
   "source": [
    "Encode first batch of data."
   ]
  },
  {
   "cell_type": "code",
   "execution_count": 5,
   "metadata": {
    "collapsed": false,
    "scrolled": false
   },
   "outputs": [
    {
     "name": "stdout",
     "output_type": "stream",
     "text": [
      "(100, 10)\n",
      "19\n"
     ]
    }
   ],
   "source": [
    "batch_size = 100\n",
    "\n",
    "# batch_indices = np.arange(batch_size)\n",
    "batch_indices = np.random.randint(limit) * np.ones((batch_size,), dtype=int)\n",
    "\n",
    "Z = vae.encoder.predict(X[batch_indices])\n",
    "\n",
    "## uncomment to get a mean estimate instead?\n",
    "Z = Z / 100.\n",
    "for i in xrange(1,100):\n",
    "    Z += vae.encoder.predict(X[:batch_size])/100.\n",
    "    \n",
    "print Z.shape\n",
    "print batch_indices[0]"
   ]
  },
  {
   "cell_type": "markdown",
   "metadata": {},
   "source": [
    "## For the decoder, grab the output of the next-to-last layer.\n",
    "\n",
    "We'll do this instead of using `vae.decoder.predict`, until sampling for the final layer is implemented in Keras."
   ]
  },
  {
   "cell_type": "code",
   "execution_count": 6,
   "metadata": {
    "collapsed": false
   },
   "outputs": [
    {
     "data": {
      "text/plain": [
       "(100, 15, 50)"
      ]
     },
     "execution_count": 6,
     "metadata": {},
     "output_type": "execute_result"
    }
   ],
   "source": [
    "ins = vae.decoder.layers[0].input\n",
    "next_to_last = vae.decoder.layers[-2].output\n",
    "\n",
    "get_output_from_input = K.function([ins], [next_to_last])\n",
    "final_layer_input = get_output_from_input([Z])[0]\n",
    "\n",
    "final_layer_input.shape"
   ]
  },
  {
   "cell_type": "code",
   "execution_count": 7,
   "metadata": {
    "collapsed": false
   },
   "outputs": [
    {
     "name": "stdout",
     "output_type": "stream",
     "text": [
      "<function hard_sigmoid at 0x11d24c230>\n",
      "<function tanh at 0x11d24c140>\n"
     ]
    }
   ],
   "source": [
    "print vae.decoder.layers[-1].inner_activation\n",
    "print vae.decoder.layers[-1].activation\n",
    "\n",
    "def sigmoid(x):\n",
    "    return 1.0 / (1.0 + np.exp(-x))\n",
    "\n",
    "def hard_sigmoid(x):\n",
    "    x = 0.2*x + 0.5\n",
    "    return np.clip(x, 0.0, 1.0)\n",
    "\n",
    "def pop_or_Q(S):\n",
    "    try:\n",
    "        return S.pop()\n",
    "    except:\n",
    "        return 'Q'\n",
    "    \n",
    "lhs_map = {}\n",
    "for ix, lhs in enumerate(G.lhs_list):\n",
    "    lhs_map[lhs] = ix\n"
   ]
  },
  {
   "cell_type": "markdown",
   "metadata": {},
   "source": [
    "\"Hard sigmoid\" is a piecewise linear approximation to a sigmoid function."
   ]
  },
  {
   "cell_type": "code",
   "execution_count": 8,
   "metadata": {
    "collapsed": false
   },
   "outputs": [
    {
     "data": {
      "image/png": "[encoded data removed]",
      "text/plain": [
       "<matplotlib.figure.Figure at 0x1202717d0>"
      ]
     },
     "metadata": {},
     "output_type": "display_data"
    }
   ],
   "source": [
    "%matplotlib inline\n",
    "from matplotlib import pyplot as plt\n",
    "plt.plot(np.linspace(-5,5), hard_sigmoid(np.linspace(-5,5)))\n",
    "plt.plot(np.linspace(-5,5), sigmoid(np.linspace(-5,5)), 'r');"
   ]
  },
  {
   "cell_type": "markdown",
   "metadata": {},
   "source": [
    "Grab all weights from the final layer, and replicate the logic in numpy."
   ]
  },
  {
   "cell_type": "code",
   "execution_count": 9,
   "metadata": {
    "collapsed": false
   },
   "outputs": [],
   "source": [
    "W_z = K.eval(vae.decoder.layers[-1].W_z)\n",
    "W_h = K.eval(vae.decoder.layers[-1].W_h)\n",
    "W_r = K.eval(vae.decoder.layers[-1].W_r)\n",
    "b_z = K.eval(vae.decoder.layers[-1].b_z)\n",
    "b_h = K.eval(vae.decoder.layers[-1].b_h)\n",
    "b_r = K.eval(vae.decoder.layers[-1].b_r)\n",
    "U_z = K.eval(vae.decoder.layers[-1].U_z)\n",
    "U_h = K.eval(vae.decoder.layers[-1].U_h)\n",
    "U_r = K.eval(vae.decoder.layers[-1].U_r)\n",
    "Y = K.eval(vae.decoder.layers[-1].Y)\n"
   ]
  },
  {
   "cell_type": "code",
   "execution_count": 10,
   "metadata": {
    "collapsed": false,
    "scrolled": false
   },
   "outputs": [
    {
     "name": "stdout",
     "output_type": "stream",
     "text": [
      "timestep 0\n",
      "timestep 1\n",
      "timestep 2\n",
      "timestep 3\n",
      "timestep 4\n",
      "timestep 5\n",
      "timestep 6\n",
      "timestep 7\n",
      "timestep 8\n",
      "timestep 9\n",
      "timestep 10\n",
      "timestep 11\n",
      "timestep 12\n",
      "timestep 13\n",
      "timestep 14\n"
     ]
    }
   ],
   "source": [
    "\n",
    "ln_p = np.zeros((batch_size,))\n",
    "\n",
    "\n",
    "x_z = np.dot(final_layer_input, W_z) + b_z\n",
    "x_h = np.dot(final_layer_input, W_h) + b_h\n",
    "x_r = np.dot(final_layer_input, W_r) + b_r\n",
    "\n",
    "\n",
    "h = np.zeros((batch_size, n_chars))\n",
    "y = np.zeros((batch_size, n_chars))\n",
    "\n",
    "X_hat = np.zeros((batch_size, MAX_LEN, n_chars))\n",
    "X_hat[:,:,-1] = 1\n",
    "\n",
    "S = np.empty((batch_size,), dtype=object)\n",
    "for ix in xrange(S.shape[0]):\n",
    "    S[ix] = [str(G.start_index)]\n",
    "\n",
    "\n",
    "for t in xrange(model_gr_prev.MAX_LEN):\n",
    "    print \"timestep\", t\n",
    "    z = hard_sigmoid(x_z[:,t] + np.dot(h, U_z))\n",
    "    r = hard_sigmoid(x_r[:,t] + np.dot(h, U_r))\n",
    "    prev_h = np.dot(r*y, Y)\n",
    "\n",
    "    hh = np.tanh(x_h[:,t] + np.dot(r*h, U_h) + prev_h)\n",
    "    h = z*h + (1-z)*hh # new hidden state\n",
    "    \n",
    "    next_nonterminal = [lhs_map[pop_or_Q(a)] for a in S]\n",
    "#     print \"looking up mask for\", next_nonterminal, \"at index\", G.ind_of_ind[next_nonterminal]\n",
    "    #mask = eq_grammar.masks[eq_grammar.ind_of_ind[next_nonterminal]]\n",
    "    mask = G.masks[next_nonterminal]\n",
    "#     print mask\n",
    "    masked_output = np.exp(h)*mask + 1e-12\n",
    "    sampled_output = np.argmax(np.random.gumbel(size=masked_output.shape) + np.log(masked_output), axis=-1)\n",
    "#     print prob\n",
    "#     sampled_output = np.argmax(np.random.gumbel(size=prob.shape) + np.log(prob + 1e-8), axis=-1)\n",
    "    #print sampled_output, eq_grammar.productions[sampled_output[0]]\n",
    "    y = np.zeros_like(y)\n",
    "    y[np.arange(batch_size),sampled_output] = 1\n",
    "    X_hat[:,t,:] = y\n",
    "    \n",
    "    prob = masked_output / np.sum(masked_output, axis=-1, keepdims=True)\n",
    "    ln_p += np.log((prob*y).sum(-1))\n",
    "    \n",
    "    rhs = [filter(lambda a: (type(a) == nltk.grammar.Nonterminal) and (str(a) != 'Nothing'),\n",
    "                  productions[i].rhs()) \n",
    "           for i in sampled_output]\n",
    "    # print [eq_grammar.productions[i].rhs() for i in sampled_output]\n",
    "    for ix in xrange(S.shape[0]):\n",
    "        S[ix].extend(map(str, rhs[ix])[::-1])\n",
    "    # print S\n",
    "#     print "
   ]
  },
  {
   "cell_type": "code",
   "execution_count": 11,
   "metadata": {
    "collapsed": false
   },
   "outputs": [],
   "source": [
    "def prods_to_eq(prods):\n",
    "    seq = [prods[0].lhs()]\n",
    "    for prod in prods:\n",
    "        if str(prod.lhs()) == 'Q':\n",
    "            break\n",
    "        #print \"before:\", seq\n",
    "        #print \"apply:\", prod\n",
    "        for ix, s in enumerate(seq):\n",
    "            if s == prod.lhs():\n",
    "                seq = seq[:ix] + list(prod.rhs()) + seq[ix+1:]\n",
    "                break\n",
    "        #print \"after:\", seq\n",
    "    return ''.join(seq)"
   ]
  },
  {
   "cell_type": "code",
   "execution_count": 12,
   "metadata": {
    "collapsed": false
   },
   "outputs": [
    {
     "data": {
      "text/plain": [
       "[S -> S '*' T,\n",
       " S -> S '+' T,\n",
       " S -> S '+' T,\n",
       " S -> T,\n",
       " T -> '1',\n",
       " T -> '1',\n",
       " T -> '(' S ')',\n",
       " S -> S '/' T,\n",
       " S -> S '*' T,\n",
       " S -> S '/' T,\n",
       " S -> S '/' T,\n",
       " S -> T,\n",
       " T -> '2',\n",
       " T -> '(' S ')',\n",
       " S -> T]"
      ]
     },
     "execution_count": 12,
     "metadata": {},
     "output_type": "execute_result"
    }
   ],
   "source": [
    "examples = [[productions[X_hat[index,t].argmax()] for t in xrange(MAX_LEN)] for index in xrange(batch_size)]\n",
    "examples[0]"
   ]
  },
  {
   "cell_type": "code",
   "execution_count": 13,
   "metadata": {
    "collapsed": false
   },
   "outputs": [
    {
     "name": "stdout",
     "output_type": "stream",
     "text": [
      "[lnp = -18.90]\tx+1+(3) -> *invalid*\n",
      "[lnp = -10.06]\tx+1+(3) -> exp(sin(1))\n",
      "[lnp = -16.63]\tx+1+(3) -> x/1*1+(sin(2/2))\n",
      "[lnp = -18.58]\tx+1+(3) -> exp(1+exp(3)+sin(3+2))\n",
      "[lnp = -17.29]\tx+1+(3) -> *invalid*\n",
      "[lnp = -16.62]\tx+1+(3) -> *invalid*\n",
      "[lnp = -16.52]\tx+1+(3) -> *invalid*\n",
      "[lnp = -4.21]\tx+1+(3) -> 2\n",
      "[lnp = -8.42]\tx+1+(3) -> 1+x+(2)\n",
      "[lnp = -6.18]\tx+1+(3) -> 1+x+3\n",
      "[lnp = -9.52]\tx+1+(3) -> 1/x+3+1\n",
      "[lnp = -4.55]\tx+1+(3) -> x+1\n",
      "[lnp = -15.99]\tx+1+(3) -> *invalid*\n",
      "[lnp = -14.23]\tx+1+(3) -> *invalid*\n",
      "[lnp = -19.81]\tx+1+(3) -> *invalid*\n",
      "[lnp = -24.01]\tx+1+(3) -> *invalid*\n",
      "[lnp = -16.89]\tx+1+(3) -> 1+(3)+sin(2*3)\n",
      "[lnp = -8.85]\tx+1+(3) -> 1+3/1\n",
      "[lnp = -22.81]\tx+1+(3) -> *invalid*\n",
      "[lnp = -18.12]\tx+1+(3) -> (sin(2)*3)+exp(3)+2\n",
      "[lnp = -5.16]\tx+1+(3) -> 1+1+x\n",
      "[lnp = -14.67]\tx+1+(3) -> 2+1+(2)+sin(3/3)\n",
      "[lnp = -3.98]\tx+1+(3) -> 1\n",
      "[lnp = -4.99]\tx+1+(3) -> 1+x+1\n",
      "[lnp = -11.86]\tx+1+(3) -> 3/x*3\n",
      "[lnp = -13.69]\tx+1+(3) -> 1*x+sin(3/2)+3\n",
      "[lnp = -15.82]\tx+1+(3) -> *invalid*\n",
      "[lnp = -21.11]\tx+1+(3) -> *invalid*\n",
      "[lnp = -6.03]\tx+1+(3) -> 3+1\n",
      "[lnp = -14.33]\tx+1+(3) -> 1+exp(sin(3))+1+3\n",
      "[lnp = -15.94]\tx+1+(3) -> *invalid*\n",
      "[lnp = -18.75]\tx+1+(3) -> *invalid*\n",
      "[lnp = -15.26]\tx+1+(3) -> x+x+1+exp(exp(3*2))\n",
      "[lnp = -26.33]\tx+1+(3) -> *invalid*\n",
      "[lnp = -20.47]\tx+1+(3) -> *invalid*\n",
      "[lnp = -18.81]\tx+1+(3) -> *invalid*\n",
      "[lnp = -21.36]\tx+1+(3) -> *invalid*\n",
      "[lnp = -21.71]\tx+1+(3) -> *invalid*\n",
      "[lnp = -17.92]\tx+1+(3) -> *invalid*\n",
      "[lnp = -19.90]\tx+1+(3) -> 1+x/(2*3*2/2)\n",
      "[lnp = -11.15]\tx+1+(3) -> exp(1+(2))\n",
      "[lnp = -19.83]\tx+1+(3) -> *invalid*\n",
      "[lnp = -20.38]\tx+1+(3) -> *invalid*\n",
      "[lnp = -24.08]\tx+1+(3) -> *invalid*\n",
      "[lnp = -9.83]\tx+1+(3) -> (x/2)\n",
      "[lnp = -6.14]\tx+1+(3) -> x+x+x\n",
      "[lnp = -18.92]\tx+1+(3) -> *invalid*\n",
      "[lnp = -16.57]\tx+1+(3) -> *invalid*\n",
      "[lnp = -16.10]\tx+1+(3) -> *invalid*\n",
      "[lnp = -21.99]\tx+1+(3) -> *invalid*\n",
      "[lnp = -15.88]\tx+1+(3) -> sin(x)+3+exp(2)+2\n",
      "[lnp = -15.98]\tx+1+(3) -> *invalid*\n",
      "[lnp = -22.28]\tx+1+(3) -> *invalid*\n",
      "[lnp = -13.24]\tx+1+(3) -> 1/x/1/x\n",
      "[lnp = -17.08]\tx+1+(3) -> *invalid*\n",
      "[lnp = -17.37]\tx+1+(3) -> exp(x+3)+2+3+3\n",
      "[lnp = -19.76]\tx+1+(3) -> 2+2*sin(2+2+2)+3\n",
      "[lnp = -15.66]\tx+1+(3) -> x+3+sin(3)+sin(sin(2))\n",
      "[lnp = -21.64]\tx+1+(3) -> *invalid*\n",
      "[lnp = -19.65]\tx+1+(3) -> *invalid*\n",
      "[lnp = -19.63]\tx+1+(3) -> *invalid*\n",
      "[lnp = -9.24]\tx+1+(3) -> (1+3)\n",
      "[lnp = -19.59]\tx+1+(3) -> *invalid*\n",
      "[lnp = -17.98]\tx+1+(3) -> *invalid*\n",
      "[lnp = -6.88]\tx+1+(3) -> 1+3+1\n",
      "[lnp = -19.72]\tx+1+(3) -> x/1/x/sin(sin(3*2))\n",
      "[lnp = -14.30]\tx+1+(3) -> 1+1+(3*sin(2))+2\n",
      "[lnp = -9.87]\tx+1+(3) -> 1/x+(2)+3\n",
      "[lnp = -21.06]\tx+1+(3) -> *invalid*\n",
      "[lnp = -17.72]\tx+1+(3) -> *invalid*\n",
      "[lnp = -24.67]\tx+1+(3) -> *invalid*\n",
      "[lnp = -19.06]\tx+1+(3) -> *invalid*\n",
      "[lnp = -7.77]\tx+1+(3) -> 3+1+3\n",
      "[lnp = -19.43]\tx+1+(3) -> *invalid*\n",
      "[lnp = -18.98]\tx+1+(3) -> *invalid*\n",
      "[lnp = -11.48]\tx+1+(3) -> x+1+sin(x)+1\n",
      "[lnp = -17.77]\tx+1+(3) -> *invalid*\n",
      "[lnp = -20.44]\tx+1+(3) -> *invalid*\n",
      "[lnp = -21.64]\tx+1+(3) -> *invalid*\n",
      "[lnp = -7.58]\tx+1+(3) -> x+exp(1)\n",
      "[lnp = -19.87]\tx+1+(3) -> *invalid*\n",
      "[lnp = -18.07]\tx+1+(3) -> *invalid*\n",
      "[lnp = -11.20]\tx+1+(3) -> 1+(1)+2\n",
      "[lnp = -18.71]\tx+1+(3) -> *invalid*\n",
      "[lnp = -13.37]\tx+1+(3) -> 2*x+x/3\n",
      "[lnp = -22.88]\tx+1+(3) -> *invalid*\n",
      "[lnp = -4.21]\tx+1+(3) -> 2\n",
      "[lnp = -15.80]\tx+1+(3) -> *invalid*\n",
      "[lnp = -18.10]\tx+1+(3) -> *invalid*\n",
      "[lnp = -21.29]\tx+1+(3) -> *invalid*\n",
      "[lnp = -5.46]\tx+1+(3) -> x+x\n",
      "[lnp = -9.05]\tx+1+(3) -> 1+1+2+1\n",
      "[lnp = -14.54]\tx+1+(3) -> 3+x+sin(2)/3\n",
      "[lnp = -20.82]\tx+1+(3) -> *invalid*\n",
      "[lnp = -13.64]\tx+1+(3) -> 1*1+exp(x)+exp(3+3)\n",
      "[lnp = -12.49]\tx+1+(3) -> 3+1+(sin(3))\n",
      "[lnp = -25.23]\tx+1+(3) -> *invalid*\n",
      "[lnp = -21.26]\tx+1+(3) -> *invalid*\n",
      "[lnp = -23.71]\tx+1+(3) -> *invalid*\n",
      "[lnp = -17.90]\tx+1+(3) -> x*2+(3)/(x+2)\n"
     ]
    }
   ],
   "source": [
    "for batch_ix, ix in enumerate(batch_indices):\n",
    "    print \"[lnp = %.2f]\\t\" % ln_p[batch_ix],\n",
    "    print raw[ix], \"->\",\n",
    "    try:\n",
    "        print prods_to_eq(examples[batch_ix])\n",
    "    except:\n",
    "        print \"*invalid*\"\n"
   ]
  },
  {
   "cell_type": "code",
   "execution_count": null,
   "metadata": {
    "collapsed": false
   },
   "outputs": [],
   "source": []
  },
  {
   "cell_type": "code",
   "execution_count": null,
   "metadata": {
    "collapsed": true
   },
   "outputs": [],
   "source": []
  }
 ],
 "metadata": {
  "kernelspec": {
   "display_name": "Python 2",
   "language": "python",
   "name": "python2"
  },
  "language_info": {
   "codemirror_mode": {
    "name": "ipython",
    "version": 2
   },
   "file_extension": ".py",
   "mimetype": "text/x-python",
   "name": "python",
   "nbconvert_exporter": "python",
   "pygments_lexer": "ipython2",
   "version": "2.7.11"
  }
 },
 "nbformat": 4,
 "nbformat_minor": 0
}
